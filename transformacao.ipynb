{
 "cells": [
  {
   "cell_type": "code",
   "execution_count": null,
   "metadata": {},
   "outputs": [],
   "source": [
    "import pandas as pd\n",
    "import pandera as pa"
   ]
  },
  {
   "cell_type": "code",
   "execution_count": null,
   "metadata": {},
   "outputs": [],
   "source": [
    "# Leitura e extração dos dados pelo método CSV, onde durante a leitura os dados ausentes serão substuídos por dados não informados/dados não disponíveis\n",
    "\n",
    "valores_ausentes = ['**','###!','####','****','*****','NULL']\n",
    "df = pd.read_csv('ocorrencia.csv', sep=\";\", parse_dates=['ocorrencia_dia'], dayfirst=True, na_values=valores_ausentes)\n",
    "df.head(10)"
   ]
  },
  {
   "cell_type": "code",
   "execution_count": null,
   "metadata": {},
   "outputs": [],
   "source": [
    "# Definindo os tipos das colunas e indicando quais não possuem valores NA\n",
    "\n",
    "schema = pa.DataFrameSchema(\n",
    "    columns= {\n",
    "        \"codigo\": pa.Column(pa.Int, required=False),\n",
    "        \"codigo_ocorrencia\": pa.Column(pa.Int),\n",
    "        \"codigo_ocorrencia2\": pa.Column(pa.Int),\n",
    "        \"ocorrencia_classificacao\": pa.Column(pa.String),\n",
    "        \"ocorrencia_cidade\": pa.Column(pa.String),\n",
    "        \"ocorrencia_uf\": pa.Column(pa.String, pa.Check.str_length(2,2), nullable=True),\n",
    "        \"ocorrencia_aerodromo\": pa.Column(pa.String, nullable=True),\n",
    "        \"ocorrencia_dia\": pa.Column(pa.DateTime),\n",
    "        \"ocorrencia_hora\": pa.Column(pa.String, pa.Check.str_matches(r'^([0-1]?[0-9]|[2][0-3]):([0-5][0-9])(:[0-5][0-9])?$'), nullable=True),\n",
    "        \"total_recomendacoes\": pa.Column(pa.Int)\n",
    "    }\n",
    ")"
   ]
  },
  {
   "cell_type": "code",
   "execution_count": null,
   "metadata": {},
   "outputs": [],
   "source": [
    "# Verificação da alteração de tipo de dado de cada coluna\n",
    "\n",
    "df.dtypes"
   ]
  },
  {
   "cell_type": "code",
   "execution_count": null,
   "metadata": {},
   "outputs": [],
   "source": [
    "# Retornando lable da segunda linha\n",
    "\n",
    "df.loc[1]"
   ]
  },
  {
   "cell_type": "markdown",
   "metadata": {},
   "source": [
    "Manipulação de Valores Nulos\n",
    "\n",
    "A função _isna_ trata valores não informados, mesmo com outra característica, outro valor, como o NaN, ou seja, indepentente se nesse df possui NA, NaT, NaN, o _Pandas_ entende esses valores como valores não disponíveis/não informados"
   ]
  },
  {
   "cell_type": "code",
   "execution_count": null,
   "metadata": {},
   "outputs": [],
   "source": [
    "df.isna().sum()"
   ]
  },
  {
   "cell_type": "code",
   "execution_count": null,
   "metadata": {},
   "outputs": [],
   "source": [
    "df.isnull().sum()"
   ]
  },
  {
   "cell_type": "code",
   "execution_count": null,
   "metadata": {},
   "outputs": [],
   "source": [
    "# Valores Nulos por Estado\n",
    "\n",
    "df.loc[df.ocorrencia_uf.isnull()]"
   ]
  },
  {
   "cell_type": "code",
   "execution_count": null,
   "metadata": {},
   "outputs": [],
   "source": [
    "filtro = df.ocorrencia_aerodromo.isnull()\n",
    "df.loc[filtro]"
   ]
  },
  {
   "cell_type": "code",
   "execution_count": null,
   "metadata": {},
   "outputs": [],
   "source": [
    "filtro = df.ocorrencia_uf.isnull()\n",
    "df.loc[filtro]"
   ]
  },
  {
   "cell_type": "code",
   "execution_count": null,
   "metadata": {},
   "outputs": [],
   "source": [
    "#Pelo count sabemos a quantidade de ocorrências com valores nulos porque ele por padrão ele não conta os valores nulos, é só vermos a diferença dos valores, já o filtro sabemos quais são as ocorrências nulas"
   ]
  },
  {
   "cell_type": "code",
   "execution_count": null,
   "metadata": {},
   "outputs": [],
   "source": [
    "filtro = df.ocorrencia_hora.isnull()\n",
    "df.loc[filtro]"
   ]
  },
  {
   "cell_type": "code",
   "execution_count": null,
   "metadata": {},
   "outputs": [],
   "source": [
    "# Ocorrências com mais de 10 recomendações | Todas as colunas\n",
    "\n",
    "filtro = df.total_recomendacoes > 10\n",
    "df.loc[filtro]"
   ]
  },
  {
   "cell_type": "code",
   "execution_count": null,
   "metadata": {},
   "outputs": [],
   "source": [
    "# Cidades que tiveram ocorrências com mais de 10 recomendações\n",
    " \n",
    "df.loc[filtro, 'ocorrencia_cidade']"
   ]
  },
  {
   "cell_type": "code",
   "execution_count": null,
   "metadata": {},
   "outputs": [],
   "source": [
    "# Cidades que tiveram ocorrências com mais de 10 recomendações e o total \n",
    "filtro = df.total_recomendacoes > 10\n",
    "df.loc[filtro, ['ocorrencia_cidade','total_recomendacoes']]"
   ]
  },
  {
   "cell_type": "code",
   "execution_count": null,
   "metadata": {},
   "outputs": [],
   "source": [
    "# Filtrando as ocorrências que tiveram incidentes graves\n",
    "\n",
    "filtro = df.ocorrencia_classificacao == 'INCIDENTE GRAVE'\n",
    "df.loc[filtro]"
   ]
  },
  {
   "cell_type": "code",
   "execution_count": null,
   "metadata": {},
   "outputs": [],
   "source": [
    "# Ocorrências de incidentes graves em São Paulo\n",
    "\n",
    "filtro1 = df.ocorrencia_classificacao == 'INCIDENTE GRAVE'\n",
    "filtro2 = df.ocorrencia_uf == 'SP'\n",
    "df.loc[filtro1 & filtro2]"
   ]
  },
  {
   "cell_type": "code",
   "execution_count": null,
   "metadata": {},
   "outputs": [],
   "source": [
    "# Ocorrências cuja cidade comece com a Letra C\n",
    "\n",
    "filtro = df.ocorrencia_cidade.str[0] == 'C'\n",
    "df.loc[filtro]"
   ]
  },
  {
   "cell_type": "code",
   "execution_count": null,
   "metadata": {},
   "outputs": [],
   "source": [
    "# Ocorrências cuja cidade termine com a Letra A\n",
    "\n",
    "filtro = df.ocorrencia_cidade.str[-1] == 'A'\n",
    "df.loc[filtro]"
   ]
  },
  {
   "cell_type": "code",
   "execution_count": null,
   "metadata": {},
   "outputs": [],
   "source": [
    "# Ocorrências cuja cidade termine com os caracteres MA\n",
    "\n",
    "filtro = df.ocorrencia_cidade.str[-2:] == 'MA'\n",
    "df.loc[filtro]"
   ]
  },
  {
   "cell_type": "code",
   "execution_count": null,
   "metadata": {},
   "outputs": [],
   "source": [
    "# Ocorrências cuja cidades contenha em seu nome os caracteres MA\n",
    "\n",
    "filtro = df.ocorrencia_cidade.str.contains ('MA')\n",
    "df.loc[filtro]"
   ]
  },
  {
   "cell_type": "code",
   "execution_count": null,
   "metadata": {},
   "outputs": [],
   "source": [
    "# Ocorrências do ano de 2015\n",
    "\n",
    "filtro = df.ocorrencia_dia.dt.year == 2015\n",
    "df.loc[filtro]"
   ]
  },
  {
   "cell_type": "code",
   "execution_count": null,
   "metadata": {},
   "outputs": [],
   "source": [
    "# Ocorrências de Dezembro de 2015\n",
    "filtro1 = df.ocorrencia_dia.dt.year == 2015\n",
    "filtro2 = df.ocorrencia_dia.dt.month == 12\n",
    "df.loc[filtro1 & filtro2]"
   ]
  },
  {
   "cell_type": "code",
   "execution_count": null,
   "metadata": {},
   "outputs": [],
   "source": [
    "# Ocorrências de 08 de Dezembro de 2015\n",
    "\n",
    "filtro_ano = df.ocorrencia_dia.dt.year == 2015\n",
    "filtro_mes = df.ocorrencia_dia.dt.month == 12\n",
    "filtro_dia = df.ocorrencia_dia.dt.day == 8\n",
    "df.loc[filtro_ano & filtro_mes & filtro_dia]"
   ]
  },
  {
   "cell_type": "code",
   "execution_count": null,
   "metadata": {},
   "outputs": [],
   "source": [
    "# Concatenando colunas Ocorrência dia e Ocorrência hora para consulta mais aprimorada\n",
    "\n",
    "df['ocorrencia_dia_hora'] = pd.to_datetime(df.ocorrencia_dia.astype(str) + ' ' + df.ocorrencia_hora)"
   ]
  },
  {
   "cell_type": "code",
   "execution_count": null,
   "metadata": {},
   "outputs": [],
   "source": [
    "# Retornando ocorrências em com data e horas específicas\n",
    "\n",
    "filtro_1 = df.ocorrencia_dia_hora >= '2015-12-03 11:00:00'\n",
    "filtro_2 = df.ocorrencia_dia_hora <= '2015-12-08 14:00:00'\n",
    "df.loc[filtro_1 & filtro_2]"
   ]
  },
  {
   "cell_type": "code",
   "execution_count": null,
   "metadata": {},
   "outputs": [],
   "source": [
    "# Agrupamento de Dados e Criação de Novo DF referente a março de 2015\n",
    "\n",
    "filtro_1 = df.ocorrencia_dia.dt.year == 2015\n",
    "filtro_2 = df.ocorrencia_dia.dt.month == 3\n",
    "df201503 = df.loc[filtro_1 & filtro_2]\n",
    "df201503"
   ]
  },
  {
   "cell_type": "code",
   "execution_count": null,
   "metadata": {},
   "outputs": [],
   "source": [
    "df201503.groupby(['codigo_ocorrencia']).count()"
   ]
  },
  {
   "cell_type": "code",
   "execution_count": null,
   "metadata": {},
   "outputs": [],
   "source": [
    "# Contando dentro de Ocorrência quantos  ACIDENTEs, INCIDENTEs, INCINDENTEs GRAVEs ocorreram\n",
    "\n",
    "df201503.groupby(['ocorrencia_classificacao']).codigo_ocorrencia.count()"
   ]
  },
  {
   "cell_type": "code",
   "execution_count": null,
   "metadata": {},
   "outputs": [],
   "source": [
    "# SIZE | Agrupa e conta os registros, que foram agrupados, as linha do Dataframe\n",
    "\n",
    "df201503.groupby(['ocorrencia_classificacao']).size()"
   ]
  },
  {
   "cell_type": "code",
   "execution_count": null,
   "metadata": {},
   "outputs": [],
   "source": [
    "# Contando número de linhas agrupadas do menor pro maior\n",
    "\n",
    "df201503.groupby(['ocorrencia_classificacao']).size().sort_values()"
   ]
  },
  {
   "cell_type": "code",
   "execution_count": null,
   "metadata": {},
   "outputs": [],
   "source": [
    "# Contando número de linhas agrupadas do maior pro menor\n",
    "\n",
    "df201503.groupby(['ocorrencia_classificacao']).size().sort_values(ascending=False)"
   ]
  },
  {
   "cell_type": "code",
   "execution_count": null,
   "metadata": {},
   "outputs": [],
   "source": [
    "# Filtrando Ocorrências da Região Sudeste\n",
    "\n",
    "filtro1 = df.ocorrencia_dia.dt.year == 2015\n",
    "filtro2 = df.ocorrencia_uf.isin(['SP','MG','ES','RJ'])\n",
    "dfsudeste2015 = df.loc[filtro1 & filtro2]\n",
    "dfsudeste2015"
   ]
  },
  {
   "cell_type": "code",
   "execution_count": null,
   "metadata": {},
   "outputs": [],
   "source": [
    "# Retornadndo quantidade de incidentes na região sudeste\n",
    "\n",
    "dfsudeste2015.count()"
   ]
  },
  {
   "cell_type": "code",
   "execution_count": null,
   "metadata": {},
   "outputs": [],
   "source": [
    "# Retronando incidentes do ano de 2015\n",
    "\n",
    "dfsudeste2015.groupby(['ocorrencia_classificacao']).size()"
   ]
  },
  {
   "cell_type": "code",
   "execution_count": null,
   "metadata": {},
   "outputs": [],
   "source": [
    "# Retornando quantas ocorrências por classificação tiveram em cada estado do sudeste\n",
    "\n",
    "dfsudeste2015.groupby(['ocorrencia_classificacao','ocorrencia_uf']).size()"
   ]
  },
  {
   "cell_type": "code",
   "execution_count": null,
   "metadata": {},
   "outputs": [],
   "source": [
    "# Retornando os incidentes por cidade no sudeste de forma decrescente\n",
    "\n",
    "dfsudeste2015.groupby(['ocorrencia_cidade']).size().sort_values(ascending=False)"
   ]
  },
  {
   "cell_type": "code",
   "execution_count": null,
   "metadata": {},
   "outputs": [],
   "source": [
    "# Retornando Ocorrências da cidade do Rio de Janeiro\n",
    "\n",
    "filtro = dfsudeste2015.ocorrencia_cidade == 'RIO DE JANEIRO'\n",
    "dfsudeste2015.loc[filtro]"
   ]
  },
  {
   "cell_type": "code",
   "execution_count": null,
   "metadata": {},
   "outputs": [],
   "source": [
    "# Total de Recomendações que o Rio de Janeiro teve\n",
    "\n",
    "filtro = dfsudeste2015.ocorrencia_cidade == 'RIO DE JANEIRO'\n",
    "dfsudeste2015.loc[filtro].total_recomendacoes.sum()"
   ]
  },
  {
   "cell_type": "code",
   "execution_count": null,
   "metadata": {},
   "outputs": [],
   "source": [
    "# Confirmando as 6 recomendações que resultaram do código anterior, verificar na coluna total_recomendacoes\n",
    "\n",
    "filtro1 = dfsudeste2015.ocorrencia_cidade == 'RIO DE JANEIRO'\n",
    "filtro2 = dfsudeste2015.total_recomendacoes > 0\n",
    "dfsudeste2015.loc[filtro1 & filtro2]"
   ]
  },
  {
   "cell_type": "code",
   "execution_count": null,
   "metadata": {},
   "outputs": [],
   "source": [
    "# Total de Recomendações por cidade da Região Sudeste\n",
    "\n",
    "dfsudeste2015.groupby(['ocorrencia_cidade']).total_recomendacoes.sum()"
   ]
  },
  {
   "cell_type": "code",
   "execution_count": null,
   "metadata": {},
   "outputs": [],
   "source": [
    "# Total de Recomendações por Aeródromo\n",
    "\n",
    "dfsudeste2015.groupby(['ocorrencia_aerodromo'], dropna=False).total_recomendacoes.sum()"
   ]
  },
  {
   "cell_type": "code",
   "execution_count": null,
   "metadata": {},
   "outputs": [],
   "source": [
    "# Retornando somente as cidades que tem recomendações não nulas ordenadas por ordem crescente\n",
    "\n",
    "filtro = dfsudeste2015.total_recomendacoes > 0\n",
    "dfsudeste2015.loc[filtro].groupby(['ocorrencia_cidade']).total_recomendacoes.sum().sort_values"
   ]
  },
  {
   "cell_type": "code",
   "execution_count": null,
   "metadata": {},
   "outputs": [],
   "source": [
    "# Retornando as ocorrências da cidade de Viçosa que possuem pele menos 1 ocorrência\n",
    "\n",
    "filtro1 = dfsudeste2015.total_recomendacoes > 0 \n",
    "filtro2 = dfsudeste2015.ocorrencia_cidade == 'VIÇOSA'\n",
    "dfsudeste2015.loc[filtro1 & filtro2]"
   ]
  }
 ],
 "metadata": {
  "language_info": {
   "name": "python"
  },
  "orig_nbformat": 4
 },
 "nbformat": 4,
 "nbformat_minor": 2
}
