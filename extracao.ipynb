{
 "cells": [
  {
   "cell_type": "code",
   "execution_count": null,
   "metadata": {},
   "outputs": [],
   "source": [
    "import pandas as pd"
   ]
  },
  {
   "cell_type": "code",
   "execution_count": null,
   "metadata": {},
   "outputs": [],
   "source": [
    "# Leitura e extração dos dados pelo método CSV, onde durante a leitura os dados ausentes serão substuídos por dados não informados/dados não disponíveis\n",
    "\n",
    "valores_ausentes = ['**','###!','####','****','*****','NULL']\n",
    "df = pd.read_csv('ocorrencia.csv', sep=\";\", parse_dates=['ocorrencia_dia'], dayfirst=True, na_values=valores_ausentes)\n",
    "df.head(10)"
   ]
  }
 ],
 "metadata": {
  "language_info": {
   "name": "python"
  },
  "orig_nbformat": 4
 },
 "nbformat": 4,
 "nbformat_minor": 2
}
